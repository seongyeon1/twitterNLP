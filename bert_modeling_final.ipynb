{
  "cells": [
    {
      "cell_type": "markdown",
      "metadata": {
        "id": "view-in-github",
        "colab_type": "text"
      },
      "source": [
        "<a href=\"https://colab.research.google.com/github/seongyeon1/twitterNLP/blob/main/bert_modeling_final.ipynb\" target=\"_parent\"><img src=\"https://colab.research.google.com/assets/colab-badge.svg\" alt=\"Open In Colab\"/></a>"
      ]
    },
    {
      "cell_type": "markdown",
      "metadata": {
        "id": "tnKE4xq0s5WA"
      },
      "source": [
        "## Getting the Bert"
      ]
    },
    {
      "cell_type": "code",
      "execution_count": 3,
      "metadata": {
        "colab": {
          "base_uri": "https://localhost:8080/"
        },
        "id": "Dpqb_EuWsroO",
        "outputId": "81c4be1a-49af-499f-d349-cd02d920d597"
      },
      "outputs": [
        {
          "output_type": "stream",
          "name": "stdout",
          "text": [
            "Looking in indexes: https://pypi.org/simple, https://us-python.pkg.dev/colab-wheels/public/simple/\n",
            "Requirement already satisfied: tensorflow_hub in /usr/local/lib/python3.7/dist-packages (0.12.0)\n",
            "Requirement already satisfied: protobuf>=3.8.0 in /usr/local/lib/python3.7/dist-packages (from tensorflow_hub) (3.17.3)\n",
            "Requirement already satisfied: numpy>=1.12.0 in /usr/local/lib/python3.7/dist-packages (from tensorflow_hub) (1.21.6)\n",
            "Requirement already satisfied: six>=1.9 in /usr/local/lib/python3.7/dist-packages (from protobuf>=3.8.0->tensorflow_hub) (1.15.0)\n"
          ]
        }
      ],
      "source": [
        "!pip install --upgrade tensorflow_hub"
      ]
    },
    {
      "cell_type": "code",
      "execution_count": 4,
      "metadata": {
        "id": "hTqzHE2gsrcX"
      },
      "outputs": [],
      "source": [
        "import tensorflow_hub as hub\n",
        "import numpy as np"
      ]
    },
    {
      "cell_type": "markdown",
      "metadata": {
        "id": "ISjQAolDtDmF"
      },
      "source": [
        "## Load the BERT model"
      ]
    },
    {
      "cell_type": "code",
      "execution_count": null,
      "metadata": {
        "id": "GdLmLpA-5Mh6"
      },
      "outputs": [],
      "source": [
        "## loading bert from tensorhub\n",
        "module_url = \"https://tfhub.dev/tensorflow/bert_en_uncased_L-24_H-1024_A-16/1\"\n",
        "bert_layer = hub.KerasLayer(module_url, trainable=False)"
      ]
    },
    {
      "cell_type": "markdown",
      "metadata": {
        "id": "9_Lw4PjBtJp6"
      },
      "source": [
        "trainable = False freezing the pre-trained Bert layers as we don’t want to retrain Bert layers.\n",
        "\n",
        "BERT Model Versionbert_en_uncased_L-24_H-1024_A-16 model\n",
        "\n",
        "- L=24 hidden layers (Transformer blocks),\n",
        "- H=1024Hidden Layers\n",
        "- A=16 attention heads.\n",
        "\n",
        "This model is trained on the Wikipedia and BooksCorpus Dataset. en_uncased signifies that the model is pre-trained for the English language and its case insensitive."
      ]
    },
    {
      "cell_type": "markdown",
      "metadata": {
        "id": "bsvLWrdntS2A"
      },
      "source": [
        "## Loading the tokenizer"
      ]
    },
    {
      "cell_type": "markdown",
      "metadata": {
        "id": "cj0ZH2TftWo3"
      },
      "source": [
        "for the training, we need to parse our textual dataset into BERT-supported input format. In order to do this, we first tokenize our dataset and then convert it into features (encoding into some numbers)"
      ]
    },
    {
      "cell_type": "code",
      "execution_count": null,
      "metadata": {
        "id": "TB7Zz4Z_uOnA"
      },
      "outputs": [],
      "source": [
        "!pip install transformers"
      ]
    },
    {
      "cell_type": "code",
      "execution_count": null,
      "metadata": {
        "id": "GDsINslttovP"
      },
      "outputs": [],
      "source": [
        "from transformers import BertTokenizer, TFBertModel\n",
        "tokenizer = BertTokenizer.from_pretrained('bert-base-uncased')\n",
        "model = TFBertModel.from_pretrained(\"bert-base-uncased\")"
      ]
    },
    {
      "cell_type": "code",
      "execution_count": null,
      "metadata": {
        "id": "FYiK8OCxtoqX"
      },
      "outputs": [],
      "source": [
        "tokenizer.tokenize(train.tweet[5])"
      ]
    },
    {
      "cell_type": "markdown",
      "metadata": {
        "id": "e-LzayHdujDF"
      },
      "source": [
        "## Understanding Input Data Format"
      ]
    },
    {
      "cell_type": "markdown",
      "metadata": {
        "id": "SW-pAI33upiV"
      },
      "source": [
        "### **Token Embeddings**\n",
        "\n",
        "Token Embedding holds the information of our dataset. it’s a number assigned to each unique words tokens\n",
        "\n",
        "- [CLS] token is attached at the beginning of every sentence that indicates the starting\n",
        "- [SEP] token is attached at the end of each and every sentence that indicates the ending of a sentence.\n",
        "\n",
        "## **Position Embeddings**\n",
        "\n",
        "It is used to indicate the position of tokens in a sentence.\n",
        "\n",
        "this helps BERT to capture the sequence or order of information given in a sentence.\n",
        "\n",
        "## **Segment Embeddings**\n",
        "\n",
        "The model must know whether a particular token belongs to Sentence 1 or sentence 2.\n",
        "\n",
        "In BERT. This is done by generating a fixed token, called the segment embedding\n",
        "\n",
        "Till now we have discussed BERT, its input format, how to load the BERT model."
      ]
    },
    {
      "cell_type": "code",
      "execution_count": null,
      "metadata": {
        "id": "uWulezLlBn7R"
      },
      "outputs": [],
      "source": [
        "sample = tokenizer.tokenize(train.tweet[5])\n",
        "\n",
        "# so this is how our bert based tokenizer works \n",
        "input_seq = [\"[CLS]\"] + sample + [\"[SEP]\"]\n",
        "input_seq\n",
        "token = tokenizer.convert_tokens_to_ids(input_seq) # this convert all the list of tokens into a ids \n",
        "pad_len = 512 - len(token)\n",
        "token = token + [0] * pad_len \n",
        "# on this step we are padding and making  every sequence equal to 512 length \n",
        "len(token) \n",
        "# so far token becomes our first input for bert "
      ]
    },
    {
      "cell_type": "code",
      "execution_count": null,
      "metadata": {
        "id": "znnv4GrLBysN"
      },
      "outputs": [],
      "source": [
        "print(input_seq)"
      ]
    },
    {
      "cell_type": "code",
      "execution_count": null,
      "metadata": {
        "id": "jGfeUYqhB9AH"
      },
      "outputs": [],
      "source": [
        "token[:10]"
      ]
    },
    {
      "cell_type": "markdown",
      "metadata": {
        "id": "aiRJ0CoOu54W"
      },
      "source": [
        "## Loading the dataset"
      ]
    },
    {
      "cell_type": "code",
      "execution_count": null,
      "metadata": {
        "id": "z67wP5My5Mh-"
      },
      "outputs": [],
      "source": [
        "from google.colab import drive\n",
        "drive.mount('/content/drive')"
      ]
    },
    {
      "cell_type": "code",
      "execution_count": null,
      "metadata": {
        "id": "bzBfk7UCvHZz"
      },
      "outputs": [],
      "source": [
        "import pandas as pd"
      ]
    },
    {
      "cell_type": "code",
      "execution_count": null,
      "metadata": {
        "id": "5R5EGI0T5Mh_"
      },
      "outputs": [],
      "source": [
        "DATA_IN_PATH = '/content/drive/MyDrive/ColabNotebooks/datasets/sentiments/'\n",
        "\n",
        "df = pd.read_csv(DATA_IN_PATH + 'preprocessed_df.csv')"
      ]
    },
    {
      "cell_type": "code",
      "execution_count": null,
      "metadata": {
        "id": "H3jFcZFFvLgd"
      },
      "outputs": [],
      "source": [
        "df"
      ]
    },
    {
      "cell_type": "markdown",
      "metadata": {
        "id": "HMtW0bFGC9i0"
      },
      "source": [
        "### Data Cleaning"
      ]
    },
    {
      "cell_type": "code",
      "execution_count": null,
      "metadata": {
        "id": "Zyf2JfSSDhp7"
      },
      "outputs": [],
      "source": [
        "import re"
      ]
    },
    {
      "cell_type": "code",
      "execution_count": null,
      "metadata": {
        "id": "LGVqOYATC5M1"
      },
      "outputs": [],
      "source": [
        "# nltk\n",
        "import nltk\n",
        "from nltk.corpus import stopwords\n",
        "from nltk.stem import SnowballStemmer\n",
        "from nltk.tokenize import word_tokenize\n",
        "nltk.download('punkt')\n",
        "nltk.download('stopwords')\n",
        "\n",
        "stop_words = stopwords.words(\"english\")\n",
        "stemmer = SnowballStemmer(\"english\")\n",
        "\n",
        "stop_words = set(stopwords.words(\"english\"))\n",
        "stop_words_list = ['no', 'nor', 'not', 'don', \"don't\", 'aren', \"aren't\", 'couldn', \"couldn't\", 'didn', \"didn't\", 'doesn', \"doesn't\",\n",
        "                   \"hadn't\", 'hasn', \"hasn't\", \"haven't\", 'isn', \"isn't\", 'mightn', \"mightn't\", 'mustn', \"mustn't\", 'needn',\n",
        "                   \"needn't\", 'shan', \"shan't\", 'shouldn', \"shouldn't\", 'wasn', \"wasn't\", 'weren', \"weren't\", 'won', \"won't\", 'wouldn', \"wouldn't\"]\n",
        "\n",
        "for i in stop_words_list:\n",
        "  stop_words.remove((i))\n",
        "  \n",
        "# TEXT CLEANING\n",
        "TEXT_CLEANING_RE = \"@\\S+|https?:\\S+|http?:\\S|[^A-Za-z0-9]+\"\n",
        "\n",
        "def preprocess(text, stem=False):\n",
        "    # Remove link, user and special characters\n",
        "    text = re.sub(TEXT_CLEANING_RE, ' ', str(text).lower()).strip()\n",
        "    tokens = []\n",
        "    for token in text.split():\n",
        "        if token not in stop_words:\n",
        "          if stem:\n",
        "              tokens.append(stemmer.stem(token))\n",
        "          else:\n",
        "              tokens.append(token)\n",
        "    return \" \".join(tokens)\n"
      ]
    },
    {
      "cell_type": "code",
      "execution_count": null,
      "metadata": {
        "id": "MkFZeS3bDHAQ"
      },
      "outputs": [],
      "source": [
        "%%time\n",
        "df.tweet = df.tweet.apply(lambda x: preprocess(x))"
      ]
    },
    {
      "cell_type": "code",
      "execution_count": null,
      "metadata": {
        "id": "xXn0LyKMwONd"
      },
      "outputs": [],
      "source": [
        "train = df[:7920]\n",
        "test = df[7920:]"
      ]
    },
    {
      "cell_type": "markdown",
      "metadata": {
        "id": "9Vk43G0aFYyp"
      },
      "source": [
        "## find max length of the data"
      ]
    },
    {
      "cell_type": "code",
      "execution_count": null,
      "metadata": {
        "id": "jLNFLhhfDpKw"
      },
      "outputs": [],
      "source": [
        "max_length = 0\n",
        "for text in df.tweet:\n",
        "  length = len(text.split())\n",
        "  if length > max_length:\n",
        "    max_length = length\n",
        "\n",
        "print(max_length)"
      ]
    },
    {
      "cell_type": "markdown",
      "metadata": {
        "id": "tgjjr5eXvbCm"
      },
      "source": [
        "## Pre-Processing Dataset into BERT Format"
      ]
    },
    {
      "cell_type": "code",
      "execution_count": null,
      "metadata": {
        "id": "AE8UNqiWvXJW"
      },
      "outputs": [],
      "source": [
        "from tensorflow.keras.layers import Dense, Input\n",
        "from tensorflow.keras.optimizers import Adam\n",
        "from tensorflow.keras.models import Model"
      ]
    },
    {
      "cell_type": "markdown",
      "metadata": {
        "id": "6u2Prv1qvhLB"
      },
      "source": [
        "- the function bert_encodertakes textual data and tokenizer and creates token_embeddings,positional_embeddings, and segment_embedding which will be passed in our model for training\n",
        "- Bert supports max length up to 512 only"
      ]
    },
    {
      "cell_type": "code",
      "execution_count": null,
      "metadata": {
        "id": "f9RcP5ssveFM"
      },
      "outputs": [],
      "source": [
        "def bert_encoder(texts, tokenizer, max_len=41):\n",
        "    \n",
        "    # here we need 3 data inputs for bert training and fine tuning \n",
        "    all_tokens = []\n",
        "    all_masks = []\n",
        "    all_segments = []\n",
        "    \n",
        "    for text in texts:\n",
        "        text = tokenizer.tokenize(text)\n",
        "            \n",
        "        text_sequence = text[:max_len-2] # here we are trimming 2 words if they getting bigger than 512\n",
        "        input_sequences = [\"[CLS]\"] + text_sequence + [\"[SEP]\"]\n",
        "        pad_len = max_len - len(input_sequences)\n",
        "        \n",
        "        tokens = tokenizer.convert_tokens_to_ids(input_sequences)\n",
        "        tokens += [0] * pad_len\n",
        "        pad_masks = [1] * len(input_sequences) + [0] * pad_len\n",
        "        segment_ids = [0] * max_len\n",
        "        \n",
        "        all_tokens.append(tokens)\n",
        "        all_masks.append(pad_masks)\n",
        "        all_segments.append(segment_ids)\n",
        "    \n",
        "    return np.array(all_tokens), np.array(all_masks), np.array(all_segments)"
      ]
    },
    {
      "cell_type": "markdown",
      "metadata": {
        "id": "IBbYqLvAvn8o"
      },
      "source": [
        "- bert_encodertakes tokenizer and text data as input and returns 3 different lists of mask/position embedding, segment embedding, token embedding.\n",
        "- convert_tokens_to_ids it maps our unique tokens to the vocab file and assigns unique ids to the unique tokens.\n",
        "- max_length = 512, the maximum length of our sentence in the dataset\n",
        "\n",
        "**Note**: Token Embedding and Positional Embedding are necessary to pass for BERT Training"
      ]
    },
    {
      "cell_type": "markdown",
      "metadata": {
        "id": "XJbfnk9Pv3Yk"
      },
      "source": [
        "Calling the encoding function:"
      ]
    },
    {
      "cell_type": "code",
      "execution_count": null,
      "metadata": {
        "id": "9volxsUnv0mq"
      },
      "outputs": [],
      "source": [
        "train_input = bert_encoder(train.tweet.values, tokenizer, max_len=41)"
      ]
    },
    {
      "cell_type": "markdown",
      "metadata": {
        "id": "6-pr_C-lwav0"
      },
      "source": [
        "- max_len = 41 since the length of most tweets is within 41 words.\n",
        "- the train_input contains a list of 3 arrays (all_tokens, all_masks,all_segments)"
      ]
    },
    {
      "cell_type": "markdown",
      "metadata": {
        "id": "oW8SE3_cwipe"
      },
      "source": [
        "## Building model using BERT layers"
      ]
    },
    {
      "cell_type": "markdown",
      "metadata": {
        "id": "8ArWbMPbwoFG"
      },
      "source": [
        "We need to design a model according to our use case using BERT pre-trained model by adding some CNN layers which will give us end prediction."
      ]
    },
    {
      "cell_type": "code",
      "execution_count": null,
      "metadata": {
        "id": "MBxD17zizMkt"
      },
      "outputs": [],
      "source": [
        "import tensorflow as tf"
      ]
    },
    {
      "cell_type": "code",
      "execution_count": null,
      "metadata": {
        "id": "ggMCy9yYweJZ"
      },
      "outputs": [],
      "source": [
        "def build_model():\n",
        "    input_word_ids = Input(shape=(max_len,), dtype=tf.int32, name=\"input_word_ids\")\n",
        "    input_mask = Input(shape=(max_len,), dtype=tf.int32, name=\"input_mask\")\n",
        "    segment_ids = Input(shape=(max_len,), dtype=tf.int32, name=\"segment_ids\")\n",
        "\n",
        "    _, sequence_output = bert_layer([input_word_ids, input_mask, segment_ids])\n",
        "    clf_output = sequence_output[:, 0, :]\n",
        "    out = Dense(1, activation='sigmoid')(clf_output)\n",
        "    \n",
        "    model = Model(inputs=[input_word_ids, input_mask, segment_ids], outputs=out)\n",
        "    model.compile(Adam(lr=2e-6), loss='binary_crossentropy', metrics=['accuracy'])\n",
        "    \n",
        "    return model"
      ]
    },
    {
      "cell_type": "code",
      "execution_count": null,
      "metadata": {
        "id": "bCrysC9OwaWy"
      },
      "outputs": [],
      "source": [
        "max_len = 41"
      ]
    },
    {
      "cell_type": "code",
      "execution_count": null,
      "metadata": {
        "id": "hFUHE9MxzFtR"
      },
      "outputs": [],
      "source": [
        "model_final = build_model()\n",
        "model_final.summary()"
      ]
    },
    {
      "cell_type": "markdown",
      "metadata": {
        "id": "jw6fk7MUzVWv"
      },
      "source": [
        "## Training Step"
      ]
    },
    {
      "cell_type": "code",
      "execution_count": null,
      "metadata": {
        "id": "5o4kfU7fzU00"
      },
      "outputs": [],
      "source": [
        "history = model_final.fit(\n",
        "    train_input, train.label,\n",
        "    validation_split=0.2,\n",
        "    epochs=5,\n",
        "    batch_size=16\n",
        ")"
      ]
    },
    {
      "cell_type": "code",
      "source": [
        "import matplotlib.pyplot as plt\n",
        "%matplotlib inline"
      ],
      "metadata": {
        "id": "lU7mEvEof5Kl"
      },
      "execution_count": null,
      "outputs": []
    },
    {
      "cell_type": "code",
      "source": [
        "acc = history.history['accuracy']\n",
        "val_acc = history.history['val_accuracy']\n",
        "loss = history.history['loss']\n",
        "val_loss = history.history['val_loss']\n",
        " \n",
        "epochs = range(len(acc))\n",
        " \n",
        "plt.plot(epochs, acc, 'b', label='Training acc')\n",
        "plt.plot(epochs, val_acc, 'r', label='Validation acc')\n",
        "plt.title('Training and validation accuracy')\n",
        "plt.legend()\n",
        " \n",
        "plt.figure()\n",
        " \n",
        "plt.plot(epochs, loss, 'b', label='Training loss')\n",
        "plt.plot(epochs, val_loss, 'r', label='Validation loss')\n",
        "plt.title('Training and validation loss')\n",
        "plt.legend()\n",
        " \n",
        "plt.show()"
      ],
      "metadata": {
        "id": "0UzPfqTMZ-wS"
      },
      "execution_count": null,
      "outputs": []
    },
    {
      "cell_type": "code",
      "execution_count": null,
      "metadata": {
        "id": "8LxEdZZAzUfe"
      },
      "outputs": [],
      "source": [
        "model_final.save('model.h5')"
      ]
    },
    {
      "cell_type": "markdown",
      "metadata": {
        "id": "2bpXTOt60KdD"
      },
      "source": [
        "## Testing and validation\n",
        "for the testing and prediction, the test data must be in the same format as training data.\n",
        "\n",
        "Calling the **bert_encoder** function on the test data will convert it into 3 embeddings and that will be passed to the model.predict method."
      ]
    },
    {
      "cell_type": "code",
      "execution_count": null,
      "metadata": {
        "id": "ma6C8cOV0G6M"
      },
      "outputs": [],
      "source": [
        "test_input = bert_encoder(test.tweet.values, tokenizer, max_len=41)\n",
        "test_pred = model_final.predict(test_input)\n",
        "prediction = np.where(test_pred>.5, 1,0)"
      ]
    },
    {
      "cell_type": "code",
      "source": [
        "pred = pd.DataFrame(test_pred)\n",
        "pred.to_csv((DATA_IN_PATH + 'bert_final_0.88.csv'), index=False)"
      ],
      "metadata": {
        "id": "aeEvtxpINDsr"
      },
      "execution_count": null,
      "outputs": []
    },
    {
      "cell_type": "code",
      "execution_count": null,
      "metadata": {
        "id": "OTNBgNqp0VCl"
      },
      "outputs": [],
      "source": [
        "test['prediction'] = prediction"
      ]
    },
    {
      "cell_type": "code",
      "execution_count": null,
      "metadata": {
        "id": "QkdNTf440Zyo"
      },
      "outputs": [],
      "source": [
        "test[test.prediction == 1]"
      ]
    },
    {
      "cell_type": "code",
      "execution_count": null,
      "metadata": {
        "id": "jKX5JLFTJiQk"
      },
      "outputs": [],
      "source": [
        "test.prediction"
      ]
    },
    {
      "cell_type": "code",
      "execution_count": null,
      "metadata": {
        "id": "rUI4X1sflV4-"
      },
      "outputs": [],
      "source": [
        "submission = pd.read_csv((DATA_IN_PATH + 'sample_submission.csv'))"
      ]
    },
    {
      "cell_type": "code",
      "execution_count": null,
      "metadata": {
        "id": "mAVYKN8vlPUg"
      },
      "outputs": [],
      "source": [
        "submission.label = test.prediction"
      ]
    },
    {
      "cell_type": "code",
      "execution_count": null,
      "metadata": {
        "id": "r3c8RLLMeqTI"
      },
      "outputs": [],
      "source": [
        "submission"
      ]
    },
    {
      "cell_type": "code",
      "execution_count": null,
      "metadata": {
        "id": "-6pZAEajJnt0"
      },
      "outputs": [],
      "source": [
        ""
      ]
    }
  ],
  "metadata": {
    "accelerator": "GPU",
    "colab": {
      "collapsed_sections": [],
      "name": "bert_modeling_final",
      "provenance": [],
      "include_colab_link": true
    },
    "kernelspec": {
      "display_name": "Python 3",
      "language": "python",
      "name": "python3"
    },
    "language_info": {
      "codemirror_mode": {
        "name": "ipython",
        "version": 3
      },
      "file_extension": ".py",
      "mimetype": "text/x-python",
      "name": "python",
      "nbconvert_exporter": "python",
      "pygments_lexer": "ipython3",
      "version": "3.7.0"
    }
  },
  "nbformat": 4,
  "nbformat_minor": 0
}